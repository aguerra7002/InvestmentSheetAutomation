{
 "cells": [
  {
   "cell_type": "code",
   "execution_count": 1,
   "metadata": {},
   "outputs": [],
   "source": [
    "from selenium import webdriver"
   ]
  },
  {
   "cell_type": "code",
   "execution_count": 2,
   "metadata": {},
   "outputs": [],
   "source": [
    "# Selenium setup\n",
    "browser = \"Firefox\" # Other option: \"Chrome\"\n",
    "driver_path = \"./Driver\"\n",
    "driver = None\n",
    "if browser == \"Firefox\":\n",
    "    driver = webdriver.Firefox(driver_path)\n",
    "elif browser == \"Chrome\":\n",
    "    driver = webdriver.Chrome(driver_path)"
   ]
  },
  {
   "cell_type": "code",
   "execution_count": 3,
   "metadata": {},
   "outputs": [],
   "source": [
    "class UpdateObj:\n",
    "    def __init__(self, url, txt_flag):\n",
    "        self.url = url\n",
    "        self.txt_flag = txt_flag\n",
    "\n",
    "update_dict = { \n",
    "    \"totalBondP\" : UpdateObj(\n",
    "        url = \"https://investor.vanguard.com/mutual-funds/profile/VBTLX\",\n",
    "        txt_flag = \"Yield to maturity\"\n",
    "    )\n",
    "}"
   ]
  },
  {
   "cell_type": "code",
   "execution_count": 4,
   "metadata": {},
   "outputs": [],
   "source": [
    "url = update_dict[\"totalBondP\"].url\n",
    "text_to_find = update_dict[\"totalBondP\"].txt_flag\n",
    "    \n",
    "# Get webpage with the driver\n",
    "driver.get(url)\n",
    "\n",
    "# Now we have to get the respective elements\n",
    "res = driver.find_elements_by_xpath(\"//*[@role='presentation']\")"
   ]
  },
  {
   "cell_type": "code",
   "execution_count": 5,
   "metadata": {},
   "outputs": [
    {
     "name": "stdout",
     "output_type": "stream",
     "text": [
      "\n",
      "\n"
     ]
    }
   ],
   "source": [
    "for elt in res:\n",
    "    print(elt.text)\n",
    "    #if text_to_find in elt.text:\n",
    "        #print(elt.text)"
   ]
  },
  {
   "cell_type": "code",
   "execution_count": 6,
   "metadata": {},
   "outputs": [
    {
     "data": {
      "text/plain": [
       "2"
      ]
     },
     "execution_count": 6,
     "metadata": {},
     "output_type": "execute_result"
    }
   ],
   "source": [
    "len(res)"
   ]
  },
  {
   "cell_type": "code",
   "execution_count": null,
   "metadata": {},
   "outputs": [],
   "source": []
  }
 ],
 "metadata": {
  "kernelspec": {
   "display_name": "Python 3",
   "language": "python",
   "name": "python3"
  },
  "language_info": {
   "codemirror_mode": {
    "name": "ipython",
    "version": 3
   },
   "file_extension": ".py",
   "mimetype": "text/x-python",
   "name": "python",
   "nbconvert_exporter": "python",
   "pygments_lexer": "ipython3",
   "version": "3.7.3"
  }
 },
 "nbformat": 4,
 "nbformat_minor": 2
}
